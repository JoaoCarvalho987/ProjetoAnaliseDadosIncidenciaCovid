{
 "cells": [
  {
   "cell_type": "code",
   "execution_count": 286,
   "id": "ba5baded",
   "metadata": {},
   "outputs": [],
   "source": [
    "import pandas as pd\n",
    "import numpy as np\n",
    "from functools import reduce\n",
    "import matplotlib.pyplot as plt\n",
    "from sklearn.linear_model import LogisticRegression\n",
    "path_casos = r\"D:\\pythonDSA\\AbsoluteProject\\20230803_Casos_e_obitos_ESP.CSV\""
   ]
  },
  {
   "cell_type": "code",
   "execution_count": 287,
   "id": "5ac31ed2",
   "metadata": {},
   "outputs": [],
   "source": [
    "planilha_casos = pd.read_csv(path_casos, sep=';', lineterminator='\\n')"
   ]
  },
  {
   "cell_type": "markdown",
   "id": "f08e25d2",
   "metadata": {},
   "source": [
    "_______________________________________________________________________________________________________________________________"
   ]
  },
  {
   "cell_type": "markdown",
   "id": "38eed8cc",
   "metadata": {},
   "source": [
    "## Item 1"
   ]
  },
  {
   "cell_type": "code",
   "execution_count": 288,
   "id": "9d6b432a",
   "metadata": {},
   "outputs": [
    {
     "name": "stdout",
     "output_type": "stream",
     "text": [
      "FEMININO     3639077\n",
      "MASCULINO    3006180\n",
      "Name: Genero, dtype: int64\n"
     ]
    }
   ],
   "source": [
    "valores = planilha_casos['Genero'].value_counts()\n",
    "print(valores[['FEMININO', 'MASCULINO']])"
   ]
  },
  {
   "cell_type": "code",
   "execution_count": 289,
   "id": "deaa979a",
   "metadata": {},
   "outputs": [
    {
     "data": {
      "text/plain": [
       "632897"
      ]
     },
     "execution_count": 289,
     "metadata": {},
     "output_type": "execute_result"
    }
   ],
   "source": [
    "valores[\"FEMININO\"] - valores[\"MASCULINO\"]"
   ]
  },
  {
   "cell_type": "markdown",
   "id": "73c40b78",
   "metadata": {},
   "source": [
    "Considerando que todos os dados na planilha indicam que houve a ocorrência de Covid-19 no indivíduo, basta \n",
    "verificarmos quantos valores com a coluna 'Genero' são iguais à 'MASCULINO' ou 'FEMININO' para conseguir responder\n",
    "o primeiro item. De acordo com a consulta, foram constatados 3.639.077 casos no gênero feminino e 3.006.180 no gênero\n",
    "masculino.\n",
    "Dessa forma, houveram 632897 casos a mais no gênero feminino em relação ao gênero masculino."
   ]
  },
  {
   "cell_type": "markdown",
   "id": "31527bd5",
   "metadata": {},
   "source": [
    "_______________________________________________________________________________________________________________________________"
   ]
  },
  {
   "cell_type": "markdown",
   "id": "499da8e3",
   "metadata": {},
   "source": [
    "## Item 2 "
   ]
  },
  {
   "cell_type": "code",
   "execution_count": 290,
   "id": "486f2916",
   "metadata": {},
   "outputs": [
    {
     "data": {
      "image/png": "[encoded data removed]",
      "text/plain": [
       "<Figure size 640x480 with 1 Axes>"
      ]
     },
     "metadata": {},
     "output_type": "display_data"
    }
   ],
   "source": [
    "obitos = planilha_casos['Obito'] == 1 # Pegar quais dados constatam com óbito\n",
    "# A lista anterior de True e False é passada como parâmetro para pegar apenas os dados necessários\n",
    "obitos_por_idades = ((planilha_casos[obitos])['Idade'].value_counts()).sort_index() \n",
    "\n",
    "# Configurações do gráfico\n",
    "obitos_por_idades.plot(kind='bar')\n",
    "plt.xlabel('Idade')\n",
    "plt.ylabel('Quantidade de Óbitos')\n",
    "step_years = 5\n",
    "plt.xticks(range(0, len(obitos_por_idades.index), step_years), obitos_por_idades.index[::step_years])\n",
    "plt.show()"
   ]
  },
  {
   "cell_type": "markdown",
   "id": "10bd45d5",
   "metadata": {},
   "source": [
    "Primeiramente, eu selecionei todos os dados em que ocorreram óbitos. Esta linha irá retornar uma lista de True e False, dessa forma, eu conseguiria utilizá-la como índice para resgatar apenas os valores que possuem óbito. Assim, eu precisaria utilizar esta lista como um check_value para a coluna idades e, então, separá-las por ordem de idade.\n",
    "Assim, eu adicionei um \"step\" de 5 anos para que o gráfico ficasse limpo visualmente e adicionei a função para chamar o gráfico."
   ]
  },
  {
   "cell_type": "markdown",
   "id": "4b68f586",
   "metadata": {},
   "source": [
    "_______________________________________________________________________________________________________________________________"
   ]
  },
  {
   "cell_type": "markdown",
   "id": "311fd645",
   "metadata": {},
   "source": [
    "## Item 3"
   ]
  },
  {
   "cell_type": "code",
   "execution_count": 291,
   "id": "d518371e",
   "metadata": {},
   "outputs": [
    {
     "data": {
      "text/plain": [
       "{'Asma': 16141,\n",
       " 'Cardiopatia': 468680,\n",
       " 'Diabetes': 311597,\n",
       " 'Doenca_Hematologica': 4530,\n",
       " 'Doenca_Hepatica': 4699,\n",
       " 'Doenca_Neurologica': 23773,\n",
       " 'Doenca Renal': 31976,\n",
       " 'Imunodepressao': 38849,\n",
       " 'Obesidade': 48663,\n",
       " 'Outros_Fatores_De_Risco': 152256,\n",
       " 'Pneumopatia': 20064,\n",
       " 'Puérpera': 1684,\n",
       " 'Síndrome_De_Down': 1449}"
      ]
     },
     "execution_count": 291,
     "metadata": {},
     "output_type": "execute_result"
    }
   ],
   "source": [
    "funcao = lambda x: x.value_counts()\n",
    "doencas_provaveis = {}\n",
    "for i in planilha_casos.columns:\n",
    "    if i not in ['Diagnostico_Covid19', 'Idade', 'Municipio', 'Obito', 'Genero', 'Data_Inicio_Sintomas']:\n",
    "        doencas_provaveis[i] = planilha_casos[i].value_counts()['SIM']\n",
    "doencas_provaveis"
   ]
  },
  {
   "cell_type": "code",
   "execution_count": 294,
   "id": "c92d0264",
   "metadata": {},
   "outputs": [
    {
     "name": "stdout",
     "output_type": "stream",
     "text": [
      "A comorbidade com maior ocorrências de ser encontrada em uma pessoa com Covid é: \n",
      "Cardiopatia\n"
     ]
    }
   ],
   "source": [
    "print(f\"\"\"A comorbidade com maior ocorrências em uma pessoa com Covid, segundo a base de dados, é: \n",
    "{max(doencas_provaveis.items(), key=lambda item: item[1])[0]}\"\"\")"
   ]
  },
  {
   "cell_type": "markdown",
   "id": "e27b87c9",
   "metadata": {},
   "source": [
    "Neste item, eu optei por utilizar um laço for já que havia algumas colunas que não poderiam ser contabilizados, como datas e idade. Assim, fiz a chamada de um dicionário para conseguir armazenar o nome e a incidência de \"SIM\" em cada coluna para todas as comorbidades pré-existentes. Após, chamei a função max e fiz com que a key a ser avaliada fosse o item 1 da lista que seria obtida ao utilizar o items(), ou seja, a quantidade de ocorrências para cada comorbidade."
   ]
  },
  {
   "cell_type": "markdown",
   "id": "ade5cd6b",
   "metadata": {},
   "source": [
    "_______________________________________________________________________________________________________________________________"
   ]
  },
  {
   "cell_type": "markdown",
   "id": "061fb855",
   "metadata": {},
   "source": [
    "## Item 4"
   ]
  },
  {
   "cell_type": "code",
   "execution_count": 273,
   "id": "041f27bf",
   "metadata": {},
   "outputs": [],
   "source": [
    "planilha_estimativa = planilha_casos.copy()"
   ]
  },
  {
   "cell_type": "code",
   "execution_count": 274,
   "id": "9e201d6d",
   "metadata": {},
   "outputs": [],
   "source": [
    "doencas_preexistentes = ['Asma', 'Cardiopatia', 'Diabetes','Doenca_Hematologica', 'Doenca_Hepatica',\n",
    "                       'Doenca_Neurologica', 'Doenca Renal',\n",
    "                       'Imunodepressao', 'Obesidade',\n",
    "                       'Outros_Fatores_De_Risco', 'Pneumopatia', 'Puérpera',\n",
    "                       'Síndrome_De_Down']\n",
    "planilha_estimativa[doencas_preexistentes] = planilha_casos[doencas_preexistentes].replace({'NÃO': 0, 'SIM': 1, 'IGNORADO': 0})\n",
    "# Substituindo os valores para conseguir trabalhar no modelo"
   ]
  },
  {
   "cell_type": "code",
   "execution_count": 275,
   "id": "155dc17e",
   "metadata": {},
   "outputs": [],
   "source": [
    "planilha_estimativa['Genero'] = planilha_estimativa['Genero'].map({'MASCULINO': 0, 'FEMININO': 1,'INDEFINIDO':2, 'IGNORADO':3})\n",
    "genero_valores = planilha_estimativa['Genero'].median()\n",
    "planilha_estimativa['Genero'] = planilha_estimativa['Genero'].fillna(genero_valores)\n"
   ]
  },
  {
   "cell_type": "markdown",
   "id": "3dccde49",
   "metadata": {},
   "source": [
    "Passei todas as possibilidades de gênero possíveis para substituir pelos gêneros Strings para também conseguir\n",
    "trabalhar no modelo, entretanto, realizei a média desses valores para ser capaz de preencher qualquer valor NaN\n",
    "que possa existir no dataframe"
   ]
  },
  {
   "cell_type": "code",
   "execution_count": 276,
   "id": "5da5a6b9",
   "metadata": {},
   "outputs": [],
   "source": [
    "planilha_estimativa['Masculino'] = (planilha_estimativa['Genero'] == 'MASCULINO').astype(int)\n",
    "planilha_estimativa['Feminino'] = (planilha_estimativa['Genero'] == 'FEMININO').astype(int)\n",
    "planilha_estimativa['Indefinido'] = (planilha_estimativa['Genero'] == 'INDEFINIDO').astype(int)\n",
    "planilha_estimativa['Ignorado'] = (planilha_estimativa['Genero'] == 'IGNORADO').astype(int)\n"
   ]
  },
  {
   "cell_type": "markdown",
   "id": "c74b7266",
   "metadata": {},
   "source": [
    "Neste parte eu transformei cada possibilidade de gênero em uma coluna no dataframe, assinalando 1 se o valor é \n",
    "igual ao gênero da coluna ou 0 se não"
   ]
  },
  {
   "cell_type": "code",
   "execution_count": 277,
   "id": "05c2a710",
   "metadata": {},
   "outputs": [],
   "source": [
    "idade_valores = planilha_estimativa['Idade'].median()\n",
    "planilha_estimativa['Idade'] = planilha_estimativa['Idade'].fillna(idade_valores)\n"
   ]
  },
  {
   "cell_type": "markdown",
   "id": "03bf895e",
   "metadata": {},
   "source": [
    "Com as idades o trabalho foi menor, pois precisei apenas realizar a média e então preencher os valores vazios."
   ]
  },
  {
   "cell_type": "code",
   "execution_count": 278,
   "id": "69fb5eea",
   "metadata": {},
   "outputs": [],
   "source": [
    "predict_colunas = ['Idade'] + ['Masculino', 'Feminino', 'Indefinido','Ignorado'] + doencas_preexistentes\n",
    "X_planilha_estimativa = planilha_estimativa[predict_colunas].values\n",
    "y_planilha_estimativa = planilha_estimativa['Obito'].values"
   ]
  },
  {
   "cell_type": "markdown",
   "id": "9702699b",
   "metadata": {},
   "source": [
    "Na linha acima, eu gerei dois tipos de valores (dataframe.values) que são aceitos pelo model"
   ]
  },
  {
   "cell_type": "code",
   "execution_count": 279,
   "id": "4acc1814",
   "metadata": {},
   "outputs": [
    {
     "data": {
      "text/plain": [
       "LogisticRegression(max_iter=6648708)"
      ]
     },
     "execution_count": 279,
     "metadata": {},
     "output_type": "execute_result"
    }
   ],
   "source": [
    "model = LogisticRegression(max_iter=planilha_estimativa.shape[0]) \n",
    "# Estava com problemas com o maximo de interações, então precisei aumentar o limite\n",
    "model.fit(X_planilha_estimativa, y_planilha_estimativa)"
   ]
  },
  {
   "cell_type": "markdown",
   "id": "4d586c71",
   "metadata": {},
   "source": [
    "Realizei uma logistic regression com o limite do tamanho do dataframe, apenas para garantir que todo o modelo pudesse ser gerado de forma fiel."
   ]
  },
  {
   "cell_type": "markdown",
   "id": "36b78584",
   "metadata": {},
   "source": [
    "A PRÓXIMA LINHA É O LOCAL PARA REALIZAR INPUTS"
   ]
  },
  {
   "cell_type": "code",
   "execution_count": 295,
   "id": "f68da2e3",
   "metadata": {},
   "outputs": [
    {
     "name": "stdout",
     "output_type": "stream",
     "text": [
      "Digite a idade da pessoa: 78\n",
      "Digite o gênero da pessoa seguindo os parâmetros:\n",
      "        M - gênero Masculino \n",
      "        F - gênero Feminino\n",
      "        In - gênero Indefinido\n",
      "        Ig - gênero Ignorado\n",
      "\n",
      "F\n",
      "Assinale 0 para não e 1 para sim\n",
      "A pessoa possui Asma? 0\n",
      "A pessoa possui Cardiopatia? 0\n",
      "A pessoa possui Diabetes? 0\n",
      "A pessoa possui Doenca_Hematologica? 0\n",
      "A pessoa possui Doenca_Hepatica? 0\n",
      "A pessoa possui Doenca_Neurologica? 0\n",
      "A pessoa possui Doenca Renal? 0\n",
      "A pessoa possui Imunodepressao? 0\n",
      "A pessoa possui Obesidade? 0\n",
      "A pessoa possui Outros_Fatores_De_Risco? 0\n",
      "A pessoa possui Pneumopatia? 0\n",
      "A pessoa possui Puérpera? 0\n",
      "A pessoa possui Síndrome_De_Down? 0\n"
     ]
    }
   ],
   "source": [
    "idade = int(input(\"Digite a idade da pessoa: \"))\n",
    "print(\"\"\"Digite o gênero da pessoa seguindo os parâmetros:\n",
    "        M - gênero Masculino \n",
    "        F - gênero Feminino\n",
    "        In - gênero Indefinido\n",
    "        Ig - gênero Ignorado\\n\"\"\")\n",
    "flag = True\n",
    "while flag:\n",
    "    genero = input()\n",
    "    if genero in ['M', 'F', 'In', 'Ig']:\n",
    "        if genero == 'M':\n",
    "            genero = [1, 0, 0, 0]\n",
    "            flag = False\n",
    "        elif genero == 'F':\n",
    "            genero = [0, 1, 0, 0]\n",
    "            flag = False\n",
    "        elif genero == 'In':\n",
    "            genero = [0, 0, 1, 0]\n",
    "            flag = False\n",
    "        elif genero == 'Ig':\n",
    "            genero = [0, 0, 0, 1]\n",
    "            flag = False\n",
    "    else:\n",
    "        print(\"Valor incorreto, digite novamente\")\n",
    "\n",
    "print(\"Assinale 0 para não e 1 para sim\")\n",
    "doencas_input = [int(input(f\"A pessoa possui {i}? \")) for i in doencas_preexistentes]\n",
    "dados_predicao = np.array([[idade] + genero + doencas_input])"
   ]
  },
  {
   "cell_type": "markdown",
   "id": "cc3d8bd5",
   "metadata": {},
   "source": [
    "Todos os valores já estão formatados para serem passados por uma predição no modelo, o que deixa maior a usabilidade para o usuário."
   ]
  },
  {
   "cell_type": "code",
   "execution_count": 296,
   "id": "29ac25ee",
   "metadata": {},
   "outputs": [
    {
     "name": "stdout",
     "output_type": "stream",
     "text": [
      "Segundo a predição, a pessoa tem maior chance de: Não óbito\n"
     ]
    }
   ],
   "source": [
    "resultado_predicao = model.predict(dados_predicao)\n",
    "print(\"Segundo a predição, a pessoa tem maior chance de:\", \"Óbito\" if resultado_predicao == 1 else \"Não óbito\")"
   ]
  },
  {
   "cell_type": "code",
   "execution_count": 297,
   "id": "2f235132",
   "metadata": {
    "scrolled": true
   },
   "outputs": [
    {
     "name": "stdout",
     "output_type": "stream",
     "text": [
      "Probabilidade de óbito: 6.81 %\n"
     ]
    }
   ],
   "source": [
    "probabilidades = model.predict_proba(dados_predicao)\n",
    "probabilidade_obito = probabilidades[0, 1]\n",
    "\n",
    "print(f\"Probabilidade de óbito: {(probabilidade_obito*100):.2f} %\")"
   ]
  },
  {
   "cell_type": "markdown",
   "id": "a06ac090",
   "metadata": {},
   "source": [
    "Dessa forma, com a função predict_proba, é possível dizer a porcentagem que, segundo a base de dados, um indivíduo com X características possui de morrer ao ser infectado de Covid. "
   ]
  }
 ],
 "metadata": {
  "kernelspec": {
   "display_name": "Python 3 (ipykernel)",
   "language": "python",
   "name": "python3"
  },
  "language_info": {
   "codemirror_mode": {
    "name": "ipython",
    "version": 3
   },
   "file_extension": ".py",
   "mimetype": "text/x-python",
   "name": "python",
   "nbconvert_exporter": "python",
   "pygments_lexer": "ipython3",
   "version": "3.9.13"
  }
 },
 "nbformat": 4,
 "nbformat_minor": 5
}
